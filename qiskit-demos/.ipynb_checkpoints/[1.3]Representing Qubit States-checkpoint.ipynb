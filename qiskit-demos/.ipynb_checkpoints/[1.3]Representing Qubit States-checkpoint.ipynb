{
 "cells": [
  {
   "cell_type": "code",
   "execution_count": 50,
   "id": "23c4985a",
   "metadata": {},
   "outputs": [],
   "source": [
    "from qiskit import QuantumCircuit, assemble, Aer\n",
    "from qiskit.visualization import plot_histogram, plot_bloch_vector\n",
    "from math import sqrt, pi\n",
    "sim = Aer.get_backend('aer_simulator')"
   ]
  },
  {
   "cell_type": "code",
   "execution_count": 51,
   "id": "58b0a8e3",
   "metadata": {},
   "outputs": [],
   "source": [
    "def simulate(qc):\n",
    "    qobj = assemble(qc)\n",
    "    result = sim.run(qobj).result()\n",
    "    counts = result.get_counts()\n",
    "    plot_histogram(counts)"
   ]
  },
  {
   "cell_type": "markdown",
   "id": "092941e8",
   "metadata": {},
   "source": [
    "## Qubits with Qiskit"
   ]
  },
  {
   "cell_type": "code",
   "execution_count": 49,
   "id": "22d8f029",
   "metadata": {},
   "outputs": [],
   "source": [
    "qc = QuantumCircuit(1) # Create a quantum circuit with one qubit\n",
    "init_state = [1/sqrt(3), sqrt(2/3)]\n",
    "qc_initialize(init_state, 0)"
   ]
  },
  {
   "cell_type": "code",
   "execution_count": null,
   "id": "3efc5129",
   "metadata": {},
   "outputs": [],
   "source": []
  }
 ],
 "metadata": {
  "kernelspec": {
   "display_name": "Python 3 (ipykernel)",
   "language": "python",
   "name": "python3"
  },
  "language_info": {
   "codemirror_mode": {
    "name": "ipython",
    "version": 3
   },
   "file_extension": ".py",
   "mimetype": "text/x-python",
   "name": "python",
   "nbconvert_exporter": "python",
   "pygments_lexer": "ipython3",
   "version": "3.9.10"
  }
 },
 "nbformat": 4,
 "nbformat_minor": 5
}
