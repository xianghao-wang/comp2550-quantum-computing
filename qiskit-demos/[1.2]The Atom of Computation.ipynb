{
 "cells": [
  {
   "cell_type": "code",
   "execution_count": 3,
   "id": "aca8745a",
   "metadata": {},
   "outputs": [],
   "source": [
    "from qiskit import QuantumCircuit, assemble, Aer\n",
    "from qiskit.visualization import plot_histogram"
   ]
  },
  {
   "cell_type": "code",
   "execution_count": 4,
   "id": "1e368bbc",
   "metadata": {},
   "outputs": [
    {
     "data": {
      "text/html": [
       "<pre style=\"word-wrap: normal;white-space: pre;background: #fff0;line-height: 1.1;font-family: &quot;Courier New&quot;,Courier,monospace\">           ░ ┌─┐                     \n",
       "  q_0: |0>─░─┤M├─────────────────────\n",
       "           ░ └╥┘┌─┐                  \n",
       "  q_1: |0>─░──╫─┤M├──────────────────\n",
       "           ░  ║ └╥┘┌─┐               \n",
       "  q_2: |0>─░──╫──╫─┤M├───────────────\n",
       "           ░  ║  ║ └╥┘┌─┐            \n",
       "  q_3: |0>─░──╫──╫──╫─┤M├────────────\n",
       "           ░  ║  ║  ║ └╥┘┌─┐         \n",
       "  q_4: |0>─░──╫──╫──╫──╫─┤M├─────────\n",
       "           ░  ║  ║  ║  ║ └╥┘┌─┐      \n",
       "  q_5: |0>─░──╫──╫──╫──╫──╫─┤M├──────\n",
       "           ░  ║  ║  ║  ║  ║ └╥┘┌─┐   \n",
       "  q_6: |0>─░──╫──╫──╫──╫──╫──╫─┤M├───\n",
       "           ░  ║  ║  ║  ║  ║  ║ └╥┘┌─┐\n",
       "  q_7: |0>─░──╫──╫──╫──╫──╫──╫──╫─┤M├\n",
       "           ░  ║  ║  ║  ║  ║  ║  ║ └╥┘\n",
       "meas: 0 8/════╩══╩══╩══╩══╩══╩══╩══╩═\n",
       "              0  1  2  3  4  5  6  7 </pre>"
      ],
      "text/plain": [
       "           ░ ┌─┐                     \n",
       "  q_0: |0>─░─┤M├─────────────────────\n",
       "           ░ └╥┘┌─┐                  \n",
       "  q_1: |0>─░──╫─┤M├──────────────────\n",
       "           ░  ║ └╥┘┌─┐               \n",
       "  q_2: |0>─░──╫──╫─┤M├───────────────\n",
       "           ░  ║  ║ └╥┘┌─┐            \n",
       "  q_3: |0>─░──╫──╫──╫─┤M├────────────\n",
       "           ░  ║  ║  ║ └╥┘┌─┐         \n",
       "  q_4: |0>─░──╫──╫──╫──╫─┤M├─────────\n",
       "           ░  ║  ║  ║  ║ └╥┘┌─┐      \n",
       "  q_5: |0>─░──╫──╫──╫──╫──╫─┤M├──────\n",
       "           ░  ║  ║  ║  ║  ║ └╥┘┌─┐   \n",
       "  q_6: |0>─░──╫──╫──╫──╫──╫──╫─┤M├───\n",
       "           ░  ║  ║  ║  ║  ║  ║ └╥┘┌─┐\n",
       "  q_7: |0>─░──╫──╫──╫──╫──╫──╫──╫─┤M├\n",
       "           ░  ║  ║  ║  ║  ║  ║  ║ └╥┘\n",
       "meas: 0 8/════╩══╩══╩══╩══╩══╩══╩══╩═\n",
       "              0  1  2  3  4  5  6  7 "
      ]
     },
     "execution_count": 4,
     "metadata": {},
     "output_type": "execute_result"
    }
   ],
   "source": [
    "qc_output = QuantumCircuit(8) # create quantum circuit with 8 qubits\n",
    "qc_output.measure_all()\n",
    "qc_output.draw(initial_state=True)"
   ]
  },
  {
   "cell_type": "code",
   "execution_count": 8,
   "id": "7a7c8049",
   "metadata": {},
   "outputs": [
    {
     "data": {
      "image/png": "[encoded data removed]",
      "text/plain": [
       "<Figure size 504x360 with 1 Axes>"
      ]
     },
     "execution_count": 8,
     "metadata": {},
     "output_type": "execute_result"
    }
   ],
   "source": [
    "sim = Aer.get_backend('aer_simulator')\n",
    "result = sim.run(qc_output).result()\n",
    "counts = result.get_counts()\n",
    "plot_histogram(counts)"
   ]
  },
  {
   "cell_type": "markdown",
   "id": "8b230b39",
   "metadata": {},
   "source": [
    "## Example: Creating an Adder Circuit"
   ]
  },
  {
   "cell_type": "code",
   "execution_count": 17,
   "id": "fdc83c87",
   "metadata": {
    "scrolled": false
   },
   "outputs": [
    {
     "data": {
      "text/html": [
       "<pre style=\"word-wrap: normal;white-space: pre;background: #fff0;line-height: 1.1;font-family: &quot;Courier New&quot;,Courier,monospace\">               \n",
       "q_0: ──────────\n",
       "     ┌───┐     \n",
       "q_1: ┤ X ├─────\n",
       "     └───┘     \n",
       "q_2: ──────────\n",
       "               \n",
       "q_3: ──────────\n",
       "               \n",
       "q_4: ──────────\n",
       "     ┌───┐┌───┐\n",
       "q_5: ┤ X ├┤ X ├\n",
       "     └───┘└───┘\n",
       "q_6: ──────────\n",
       "     ┌───┐     \n",
       "q_7: ┤ X ├─────\n",
       "     └───┘     </pre>"
      ],
      "text/plain": [
       "               \n",
       "q_0: ──────────\n",
       "     ┌───┐     \n",
       "q_1: ┤ X ├─────\n",
       "     └───┘     \n",
       "q_2: ──────────\n",
       "               \n",
       "q_3: ──────────\n",
       "               \n",
       "q_4: ──────────\n",
       "     ┌───┐┌───┐\n",
       "q_5: ┤ X ├┤ X ├\n",
       "     └───┘└───┘\n",
       "q_6: ──────────\n",
       "     ┌───┐     \n",
       "q_7: ┤ X ├─────\n",
       "     └───┘     "
      ]
     },
     "execution_count": 17,
     "metadata": {},
     "output_type": "execute_result"
    }
   ],
   "source": [
    "# create circuit\n",
    "qc_encode = QuantumCircuit(8)\n",
    "qc_encode.x(7)\n",
    "qc_encode.x(1)\n",
    "qc_encode.x(5)\n",
    "qc_encode.draw()"
   ]
  },
  {
   "cell_type": "code",
   "execution_count": 20,
   "id": "fa595ab0",
   "metadata": {},
   "outputs": [
    {
     "data": {
      "text/html": [
       "<pre style=\"word-wrap: normal;white-space: pre;background: #fff0;line-height: 1.1;font-family: &quot;Courier New&quot;,Courier,monospace\">          \n",
       "q_0: ──■──\n",
       "     ┌─┴─┐\n",
       "q_1: ┤ X ├\n",
       "     └───┘</pre>"
      ],
      "text/plain": [
       "          \n",
       "q_0: ──■──\n",
       "     ┌─┴─┐\n",
       "q_1: ┤ X ├\n",
       "     └───┘"
      ]
     },
     "execution_count": 20,
     "metadata": {},
     "output_type": "execute_result"
    }
   ],
   "source": [
    "# controlled-not gate\n",
    "qc_cnot = QuantumCircuit(2)\n",
    "qc.x(0)\n",
    "qc_cnot.cx(0,1)"
   ]
  },
  {
   "cell_type": "code",
   "execution_count": 24,
   "id": "bb1b8d7b",
   "metadata": {},
   "outputs": [
    {
     "data": {
      "image/png": "[encoded data removed]",
      "text/plain": [
       "<Figure size 504x360 with 1 Axes>"
      ]
     },
     "execution_count": 24,
     "metadata": {},
     "output_type": "execute_result"
    }
   ],
   "source": [
    "# controlled-not gate example\n",
    "qc = QuantumCircuit(2,2)\n",
    "qc.x(0)\n",
    "qc.cx(0,1)\n",
    "qc.measure(0,0)\n",
    "qc.measure(1,1)\n",
    "qc.draw()\n",
    "\n",
    "sim = Aer.get_backend('aer_simulator')\n",
    "result = sim.run(qc).result()\n",
    "counts = result.get_counts()\n",
    "plot_histogram(counts)"
   ]
  },
  {
   "cell_type": "code",
   "execution_count": 18,
   "id": "8e76de08",
   "metadata": {},
   "outputs": [
    {
     "data": {
      "text/html": [
       "<pre style=\"word-wrap: normal;white-space: pre;background: #fff0;line-height: 1.1;font-family: &quot;Courier New&quot;,Courier,monospace\">                   ░ ┌─┐                     \n",
       "   q_0: ───────────░─┤M├─────────────────────\n",
       "        ┌───┐      ░ └╥┘┌─┐                  \n",
       "   q_1: ┤ X ├──────░──╫─┤M├──────────────────\n",
       "        └───┘      ░  ║ └╥┘┌─┐               \n",
       "   q_2: ───────────░──╫──╫─┤M├───────────────\n",
       "                   ░  ║  ║ └╥┘┌─┐            \n",
       "   q_3: ───────────░──╫──╫──╫─┤M├────────────\n",
       "                   ░  ║  ║  ║ └╥┘┌─┐         \n",
       "   q_4: ───────────░──╫──╫──╫──╫─┤M├─────────\n",
       "        ┌───┐┌───┐ ░  ║  ║  ║  ║ └╥┘┌─┐      \n",
       "   q_5: ┤ X ├┤ X ├─░──╫──╫──╫──╫──╫─┤M├──────\n",
       "        └───┘└───┘ ░  ║  ║  ║  ║  ║ └╥┘┌─┐   \n",
       "   q_6: ───────────░──╫──╫──╫──╫──╫──╫─┤M├───\n",
       "        ┌───┐      ░  ║  ║  ║  ║  ║  ║ └╥┘┌─┐\n",
       "   q_7: ┤ X ├──────░──╫──╫──╫──╫──╫──╫──╫─┤M├\n",
       "        └───┘      ░  ║  ║  ║  ║  ║  ║  ║ └╥┘\n",
       "meas: 8/══════════════╩══╩══╩══╩══╩══╩══╩══╩═\n",
       "                      0  1  2  3  4  5  6  7 </pre>"
      ],
      "text/plain": [
       "                   ░ ┌─┐                     \n",
       "   q_0: ───────────░─┤M├─────────────────────\n",
       "        ┌───┐      ░ └╥┘┌─┐                  \n",
       "   q_1: ┤ X ├──────░──╫─┤M├──────────────────\n",
       "        └───┘      ░  ║ └╥┘┌─┐               \n",
       "   q_2: ───────────░──╫──╫─┤M├───────────────\n",
       "                   ░  ║  ║ └╥┘┌─┐            \n",
       "   q_3: ───────────░──╫──╫──╫─┤M├────────────\n",
       "                   ░  ║  ║  ║ └╥┘┌─┐         \n",
       "   q_4: ───────────░──╫──╫──╫──╫─┤M├─────────\n",
       "        ┌───┐┌───┐ ░  ║  ║  ║  ║ └╥┘┌─┐      \n",
       "   q_5: ┤ X ├┤ X ├─░──╫──╫──╫──╫──╫─┤M├──────\n",
       "        └───┘└───┘ ░  ║  ║  ║  ║  ║ └╥┘┌─┐   \n",
       "   q_6: ───────────░──╫──╫──╫──╫──╫──╫─┤M├───\n",
       "        ┌───┐      ░  ║  ║  ║  ║  ║  ║ └╥┘┌─┐\n",
       "   q_7: ┤ X ├──────░──╫──╫──╫──╫──╫──╫──╫─┤M├\n",
       "        └───┘      ░  ║  ║  ║  ║  ║  ║  ║ └╥┘\n",
       "meas: 8/══════════════╩══╩══╩══╩══╩══╩══╩══╩═\n",
       "                      0  1  2  3  4  5  6  7 "
      ]
     },
     "execution_count": 18,
     "metadata": {},
     "output_type": "execute_result"
    }
   ],
   "source": [
    "# extrac results\n",
    "qc_encode.measure_all()\n",
    "qc_encode.draw()"
   ]
  },
  {
   "cell_type": "code",
   "execution_count": 19,
   "id": "467ddcc3",
   "metadata": {},
   "outputs": [
    {
     "data": {
      "image/png": "[encoded data removed]",
      "text/plain": [
       "<Figure size 504x360 with 1 Axes>"
      ]
     },
     "execution_count": 19,
     "metadata": {},
     "output_type": "execute_result"
    }
   ],
   "source": [
    "# simulate\n",
    "sim = Aer.get_backend('aer_simulator')\n",
    "result = sim.run(qc_encode).result()\n",
    "counts = result.get_counts()\n",
    "plot_histogram(counts)"
   ]
  },
  {
   "cell_type": "code",
   "execution_count": null,
   "id": "938abe0c",
   "metadata": {},
   "outputs": [],
   "source": []
  }
 ],
 "metadata": {
  "kernelspec": {
   "display_name": "Python 3 (ipykernel)",
   "language": "python",
   "name": "python3"
  },
  "language_info": {
   "codemirror_mode": {
    "name": "ipython",
    "version": 3
   },
   "file_extension": ".py",
   "mimetype": "text/x-python",
   "name": "python",
   "nbconvert_exporter": "python",
   "pygments_lexer": "ipython3",
   "version": "3.9.10"
  }
 },
 "nbformat": 4,
 "nbformat_minor": 5
}
